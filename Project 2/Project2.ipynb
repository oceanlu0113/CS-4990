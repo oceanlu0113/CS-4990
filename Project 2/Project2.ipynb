{
  "nbformat": 4,
  "nbformat_minor": 0,
  "metadata": {
    "colab": {
      "name": "Project2.ipynb",
      "version": "0.3.2",
      "provenance": [],
      "collapsed_sections": []
    },
    "kernelspec": {
      "name": "python3",
      "display_name": "Python 3"
    },
    "accelerator": "GPU"
  },
  "cells": [
    {
      "metadata": {
        "id": "I5IvEV7B45HS",
        "colab_type": "text"
      },
      "cell_type": "markdown",
      "source": [
        "Web Crawler Libraries:\n",
        "\n",
        "HTML parser - BeautifulSoup\n",
        "\n",
        "HTTP requests - Python requests lib"
      ]
    },
    {
      "metadata": {
        "id": "vTApecg94rTV",
        "colab_type": "code",
        "colab": {}
      },
      "cell_type": "code",
      "source": [
        "try: \n",
        "    from BeautifulSoup import BeautifulSoup # html parser\n",
        "except ImportError:\n",
        "    from bs4 import BeautifulSoup\n",
        "import requests #http request handling library\n",
        "import pandas as pd #data structure for intermediate storage of links and output of CSV\n",
        "import numpy as np\n",
        "import re \n",
        "import math\n",
        "import urllib\n",
        "import urllib.robotparser as urobot #robot.text\n",
        "from urllib.parse import urljoin\n",
        "from urllib.parse import urlparse\n",
        "from urllib.parse import urlunparse\n",
        "from urllib.parse import urlsplit\n",
        "from urllib.parse import urldefrag\n",
        "from tabulate import tabulate\n",
        "from tqdm import tqdm #progress bar creation"
      ],
      "execution_count": 0,
      "outputs": []
    },
    {
      "metadata": {
        "id": "wiILA5nH4QDY",
        "colab_type": "text"
      },
      "cell_type": "markdown",
      "source": [
        "# **Utility Functions**"
      ]
    },
    {
      "metadata": {
        "id": "6D9ezkh85F6M",
        "colab_type": "text"
      },
      "cell_type": "markdown",
      "source": [
        "HTTP request functions"
      ]
    },
    {
      "metadata": {
        "id": "rNEgg-ru5Hpu",
        "colab_type": "code",
        "colab": {}
      },
      "cell_type": "code",
      "source": [
        "def get_html(url):\n",
        "  try:\n",
        "    r = requests.get(url) #add verify=False to handle the SSL Error\n",
        "    if r.status_code == requests.codes.ok and 'text/html' in r.headers['content-type']:\n",
        "      return r.text\n",
        "    else:\n",
        "      return False\n",
        "  except Exception as e:\n",
        "    return False"
      ],
      "execution_count": 0,
      "outputs": []
    },
    {
      "metadata": {
        "id": "XZ_now7B5IBG",
        "colab_type": "text"
      },
      "cell_type": "markdown",
      "source": [
        "**HTML parsing functions**"
      ]
    },
    {
      "metadata": {
        "id": "NvRwBg1g5M86",
        "colab_type": "code",
        "colab": {}
      },
      "cell_type": "code",
      "source": [
        "def parse_html(html_doc,base_url) :\n",
        "  #first create a BeautifulSoup object\n",
        "  soup = BeautifulSoup(html_doc, 'html.parser')\n",
        "  links = set()\n",
        "\n",
        "  #parse all links\n",
        "  for link in soup.find_all('a',href=True):\n",
        "    link = urlsplit(link.get('href'))\n",
        "    url=link.geturl().rstrip('/') #get the href and remove slash (/) if '/'is at the end of the link\n",
        "    if (url !='/') and (url)  and ('@' not in url) :\n",
        "      if ('http:'not in link.scheme) and ('https:' not in link.scheme):\n",
        "        if url.startswith('//'):        #handle the link that starts with '//'  \n",
        "          url=link._replace(scheme='https').geturl()\n",
        "        elif url not in base_url : # check if the url and href has the same top level domain(TLD)\n",
        "          url=urljoin(base_url,url)\n",
        "      if '#' in url:\n",
        "        url = urldefrag(url)[0]\n",
        "      if 'index.shtml' in url or 'index.html' in url:\n",
        "        url = url.split('/index.')[0] \n",
        "      links.add(url)  \n",
        "      \n",
        "  #urls to add to queue, list of urls\n",
        "  return links "
      ],
      "execution_count": 0,
      "outputs": []
    },
    {
      "metadata": {
        "id": "do-QDUYWrV4t",
        "colab_type": "text"
      },
      "cell_type": "markdown",
      "source": [
        "**Add row and column to the outlink table**"
      ]
    },
    {
      "metadata": {
        "id": "avgITEPemfnM",
        "colab_type": "code",
        "colab": {}
      },
      "cell_type": "code",
      "source": [
        "def updates_outlink_table(outlink,domain,codomain):\n",
        " \n",
        "  if codomain > len(outlink)-1:\n",
        "    outlink.append([[0]*(codomain),0])\n",
        "    \n",
        "    for row in range (len(outlink)):\n",
        "      outlink[row][0].append(0)\n",
        "      if row == codomain:\n",
        "        outlink[codomain][0][domain]=1\n",
        "        outlink[domain][1]+=1       \n",
        "      row+=1\n",
        "  elif outlink[codomain][0][domain] != 1:\n",
        "    outlink[domain][1]+=1\n",
        "    outlink[codomain][0][domain]=1\n",
        "#   print (*outlink,sep='\\n')   "
      ],
      "execution_count": 0,
      "outputs": []
    },
    {
      "metadata": {
        "id": "8ILu7P7fYW_s",
        "colab_type": "text"
      },
      "cell_type": "markdown",
      "source": [
        "**Proportional division of outlinks**"
      ]
    },
    {
      "metadata": {
        "id": "4hug9D3XCqB_",
        "colab_type": "code",
        "colab": {}
      },
      "cell_type": "code",
      "source": [
        "def divide_outlinks(outlinks): \n",
        "  for domain in range(len(outlinks)):\n",
        "    for codomain in range(len(outlinks)):\n",
        "      if outlinks[domain][1] != 0:\n",
        "        outlinks[codomain][0][domain]=outlinks[codomain][0][domain]/outlinks[domain][1]\n",
        "#   print (*outlinks,sep='\\n') "
      ],
      "execution_count": 0,
      "outputs": []
    },
    {
      "metadata": {
        "id": "gaiNGEL_wgTA",
        "colab_type": "code",
        "colab": {}
      },
      "cell_type": "code",
      "source": [
        "# #test updates_outlink_table and divide outlinks\n",
        "\n",
        "# list1=[[[0],0]]\n",
        "# updates_outlink_table(list1,0,1)\n",
        "# updates_outlink_table(list1,1,0)\n",
        "# updates_outlink_table(list1,1,2)\n",
        "# updates_outlink_table(list1,1,3)\n",
        "# updates_outlink_table(list1,2,0)\n",
        "# updates_outlink_table(list1,2,1)\n",
        "# updates_outlink_table(list1,2,3)\n",
        "# updates_outlink_table(list1,3,0)\n",
        "# updates_outlink_table(list1,3,2)\n",
        "# divide_outlinks(list1)\n",
        "# print(list1)\n",
        "\n",
        "# #Example 2 from lecture\n",
        "# list= [[[1],1]]\n",
        "# updates_outlink_table(list,0,1)\n",
        "# print('\\n'+str(list))\n",
        "# updates_outlink_table(list,1,0)\n",
        "# print(list)\n",
        "# updates_outlink_table(list,1,2)\n",
        "# print(list)\n",
        "# updates_outlink_table(list,2,1)\n",
        "# divide_outlinks(list)\n",
        "# print('\\n')\n",
        "# print(list)"
      ],
      "execution_count": 0,
      "outputs": []
    },
    {
      "metadata": {
        "id": "43ZWXZRAOMEa",
        "colab_type": "text"
      },
      "cell_type": "markdown",
      "source": [
        "**Check if a link is in a list**"
      ]
    },
    {
      "metadata": {
        "id": "a5kmU-zd7dl2",
        "colab_type": "code",
        "colab": {}
      },
      "cell_type": "code",
      "source": [
        "def has_link(list, link,pos):\n",
        "  for page in list:\n",
        "    if link in page[0]:\n",
        "      page[1].append(pos)\n",
        "      return True\n",
        "  return False  \n"
      ],
      "execution_count": 0,
      "outputs": []
    },
    {
      "metadata": {
        "id": "lLqG8jQ52Qid",
        "colab_type": "code",
        "colab": {}
      },
      "cell_type": "code",
      "source": [
        "def has_same_base_url(domain, url):\n",
        "  return domain in url"
      ],
      "execution_count": 0,
      "outputs": []
    },
    {
      "metadata": {
        "id": "kOlmSwVDYHAM",
        "colab_type": "text"
      },
      "cell_type": "markdown",
      "source": [
        "**Calcuate PageRank**"
      ]
    },
    {
      "metadata": {
        "id": "4K5ayg2Mb0hp",
        "colab_type": "code",
        "colab": {}
      },
      "cell_type": "code",
      "source": [
        "def calculate_page_rank(page_rank,outlinks,_lambda):\n",
        "  for row in range (len(page_rank)):\n",
        "    page_rank[row][1]=1/len(page_rank)\n",
        "  \n",
        "  temp= page_rank\n",
        "  i=0\n",
        "  \n",
        "  while True:\n",
        "    page_rank = temp\n",
        "    temp= [page[:] for page in page_rank]\n",
        "    \n",
        "    for row in range (len(temp)):\n",
        "      col=0\n",
        "      result=0\n",
        "      for page in page_rank:\n",
        "        result=result+page[1]*outlinks[row][0][col]\n",
        "        col+=1\n",
        "      temp[row][1]=_lambda/len(page_rank)+ (1-_lambda)*result\n",
        "      row+=1\n",
        "    if temp == page_rank:\n",
        "      break;\n",
        "#     print('\\nSum All Page Ranks: ',sum(row[1] for row in temp))  \n",
        "    i+=1\n",
        "\n",
        "  print('Number of iteration: '+str(i)+'\\n') \n",
        "  return page_rank"
      ],
      "execution_count": 0,
      "outputs": []
    },
    {
      "metadata": {
        "id": "USmgfPO_Kf2k",
        "colab_type": "code",
        "colab": {}
      },
      "cell_type": "code",
      "source": [
        "# #test calculate_page_rank\n",
        "\n",
        "# #example 2\n",
        "# list1=[[[0,0.5,1/3,.5],2],[[1,0,1/3,0],2],[[0,0,0,.5],3],[[0,0.5,1/3,0],2]]\n",
        "# print(*list1, sep='\\n')\n",
        "\n",
        "# page={'A':0,'B':0,'C':0,'D':0}\n",
        "# page=calculate_page_rank(page,list1,.15)\n",
        "# # page_rank=calculate_page_rank(page_rank,0.15,outlinks)\n",
        "# print (page)"
      ],
      "execution_count": 0,
      "outputs": []
    },
    {
      "metadata": {
        "id": "NflSKK3x5O-z",
        "colab_type": "text"
      },
      "cell_type": "markdown",
      "source": [
        "# **Main Driver**"
      ]
    },
    {
      "metadata": {
        "id": "0D8y4YXQVqee",
        "colab_type": "code",
        "outputId": "a77a24c5-19d8-426b-c38b-a82ffd390b90",
        "colab": {
          "base_uri": "https://localhost:8080/",
          "height": 34
        }
      },
      "cell_type": "code",
      "source": [
        "#constants\n",
        "MAX_PAGES = 2500\n",
        "SEED = 'https://www.cpp.edu'\n",
        "\n",
        "queue = [(SEED,[0])]\n",
        "i_pages = 0\n",
        "visited_links = {} #serves as a history of visited links and creation of url\n",
        "outlinks= [[[0],0]]\n",
        "page_rank= []\n",
        "\n",
        "with tqdm(total=MAX_PAGES) as pbar:\n",
        "  while len(queue) != 0 and i_pages<MAX_PAGES:\n",
        "    url,positions= queue.pop(0)\n",
        "    html = get_html(url)\n",
        " \n",
        "    if html != False:\n",
        "      result = parse_html(html,url) #returns (links) \n",
        "      page_rank.append([url,0]) \n",
        "      pbar.update(1)\n",
        "#       print('url: ',url)\n",
        "      if i_pages > 0:\n",
        "        for position in positions:\n",
        "          updates_outlink_table(outlinks, position,i_pages)\n",
        "      visited_links[url]=i_pages\n",
        "\n",
        "      #check if the outlink has already been explored, if not add to queue and dataframe.\n",
        "      for link in result:\n",
        "        if has_same_base_url(SEED,link):\n",
        "          if link not in visited_links:\n",
        "              #print(link)\n",
        "              if not has_link(queue, link,i_pages): \n",
        "                queue.append((link,[i_pages]))\n",
        "          else:\n",
        "            updates_outlink_table(outlinks, i_pages,visited_links[link]) \n",
        "#             print(url, i_pages,\"-\",link,visited_links[link])\n",
        "#             print(*outlinks, sep='\\n')\n",
        "      #print(queue)\n",
        "      i_pages += 1\n",
        "divide_outlinks(outlinks)\n",
        "#print(*outlinks, sep='\\n')"
      ],
      "execution_count": 0,
      "outputs": [
        {
          "output_type": "stream",
          "text": [
            "100%|██████████| 2500/2500 [19:43<00:00,  1.11it/s]\n"
          ],
          "name": "stderr"
        }
      ]
    },
    {
      "metadata": {
        "id": "H1O_uIWybU4G",
        "colab_type": "text"
      },
      "cell_type": "markdown",
      "source": [
        "#** Print PageRank **\n",
        "\n"
      ]
    },
    {
      "metadata": {
        "id": "01Zl4v_3-kJY",
        "colab_type": "code",
        "outputId": "2750f516-f2f0-4fd5-c736-5444e45e7b38",
        "colab": {
          "base_uri": "https://localhost:8080/",
          "height": 1802
        }
      },
      "cell_type": "code",
      "source": [
        "\n",
        "page_rank=calculate_page_rank(page_rank,outlinks,_lambda=0.20)\n",
        "sorted_index = sorted(page_rank, key=lambda x: x[1], reverse=True) #create a list that is the page_rank sorted by value\n",
        "\n",
        "num_rows=100\n",
        "print('-'*140)\n",
        "print ('{:^5} {:^80} {:^18}'.format('Rank','Link','PageRank'))\n",
        "print('-'*140)\n",
        "for row in range(num_rows):\n",
        "  print ('{:^5}| {:<80}| {:03.20f}'.format((row+1),sorted_index[row][0],sorted_index[row][1],'|'))\n",
        "  \n",
        "print('\\nSum All Page Ranks: ',sum(row[1] for row in page_rank))  "
      ],
      "execution_count": 0,
      "outputs": [
        {
          "output_type": "stream",
          "text": [
            "--------------------------------------------------------------------------------------------------------------------------------------------\n",
            "Rank                                        Link                                            PageRank     \n",
            "--------------------------------------------------------------------------------------------------------------------------------------------\n",
            "  1  | https://www.cpp.edu                                                             | 0.04525294055587124331\n",
            "  2  | https://www.cpp.edu/~aboutcpp                                                   | 0.04525294055587124331\n",
            "  3  | https://www.cpp.edu/file-viewers.shtml                                          | 0.04521133778471275733\n",
            "  4  | https://www.cpp.edu/~library                                                    | 0.02367918239143323653\n",
            "  5  | https://www.cpp.edu/accessibility.shtml                                         | 0.02236785926170458197\n",
            "  6  | https://www.cpp.edu/website-feedback.php                                        | 0.02236785926170458197\n",
            "  7  | https://www.cpp.edu/privacy.shtml                                               | 0.02236785926170458197\n",
            "  8  | https://www.cpp.edu/events/day.php?date=04/19/2019                              | 0.00792685254681482765\n",
            "  9  | https://www.cpp.edu/~stratcomm/for-the-media.shtml                              | 0.00373862069775227068\n",
            " 10  | https://www.cpp.edu/~class                                                      | 0.00346597183863431172\n",
            " 11  | https://www.cpp.edu/~aboutcpp/why-cpp/well-ranked.shtml                         | 0.00306330151733182586\n",
            " 12  | https://www.cpp.edu/~aboutcpp/calpolypomona-overview/mission-and-values.shtml   | 0.00306277065477273888\n",
            " 13  | https://www.cpp.edu/~aboutcpp/calpolypomona-overview/facts-and-figures.shtml    | 0.00305932128978270981\n",
            " 14  | https://www.cpp.edu/~aboutcpp/why-cpp/affordable-and-accessible.shtml           | 0.00305932128978270981\n",
            " 15  | https://www.cpp.edu/~aboutcpp/why-cpp/quality-learning-experiences.shtml        | 0.00305932128978270981\n",
            " 16  | https://www.cpp.edu/~aboutcpp/calpolypomona-overview/public-good.shtml          | 0.00305932128978270981\n",
            " 17  | https://www.cpp.edu/~aboutcpp/heritage/history-archives.shtml                   | 0.00305932128978270981\n",
            " 18  | https://www.cpp.edu/~aboutcpp/calpolypomona-overview/campus-community.shtml     | 0.00305932128978270981\n",
            " 19  | https://www.cpp.edu/~aboutcpp/heritage/kellogg-house-pomona.shtml               | 0.00305932128978270981\n",
            " 20  | https://www.cpp.edu/~aboutcpp/calpolypomona-overview/presidents-message.shtml   | 0.00305932128978270981\n",
            " 21  | https://www.cpp.edu/~aboutcpp/heritage/kellogg-connection.shtml                 | 0.00305932128978270981\n",
            " 22  | https://www.cpp.edu/~agri                                                       | 0.00275032687609386628\n",
            " 23  | https://www.cpp.edu/~stratcomm/sharing-news.shtml                               | 0.00266080444849505979\n",
            " 24  | https://www.cpp.edu/~stratcomm/getting-news.shtml                               | 0.00266080444849505979\n",
            " 25  | https://www.cpp.edu/~stratcomm/contact-us.shtml                                 | 0.00262119628939905345\n",
            " 26  | https://www.cpp.edu/~cba                                                        | 0.00259770633231651196\n",
            " 27  | https://www.cpp.edu/~class/news                                                 | 0.00243586586860777311\n",
            " 28  | https://www.cpp.edu/~ceis                                                       | 0.00242422467303862223\n",
            " 29  | https://www.cpp.edu/~alumni                                                     | 0.00240611008942580827\n",
            " 30  | https://www.cpp.edu/~class/departments.shtml                                    | 0.00234286470377767725\n",
            " 31  | https://www.cpp.edu/~class/centers.shtml                                        | 0.00233857709872082199\n",
            " 32  | https://www.cpp.edu/~class/contact-us                                           | 0.00233857709872082199\n",
            " 33  | https://www.cpp.edu/~class/giving                                               | 0.00233857709872082199\n",
            " 34  | https://www.cpp.edu/~class/alumni                                               | 0.00233857709872082199\n",
            " 35  | https://www.cpp.edu/~class/about                                                | 0.00233857709872082199\n",
            " 36  | https://www.cpp.edu/~admissions                                                 | 0.00230084433245097411\n",
            " 37  | https://www.cpp.edu/events/day.php?date=04/19/2019&audience=all                 | 0.00228168339442923153\n",
            " 38  | https://www.cpp.edu/~extended-education                                         | 0.00228150164806902684\n",
            " 39  | https://www.cpp.edu/~giving                                                     | 0.00214335725244028334\n",
            " 40  | https://www.cpp.edu/~outreach/tours.shtml                                       | 0.00205053938013871834\n",
            " 41  | https://www.cpp.edu/~aboutcpp/administration.shtml                              | 0.00195504803411726893\n",
            " 42  | https://www.cpp.edu/~sci                                                        | 0.00194510332999734683\n",
            " 43  | https://www.cpp.edu/~collins                                                    | 0.00181985533679030398\n",
            " 44  | https://www.cpp.edu/~alumni/outstanding-alumni/distinguished-alumni             | 0.00180132409527504890\n",
            " 45  | https://www.cpp.edu/~commencement                                               | 0.00170074912942810982\n",
            " 46  | https://www.cpp.edu/~agri/student-life                                          | 0.00163290246774064687\n",
            " 47  | https://www.cpp.edu/~agri/giving                                                | 0.00163290246774064687\n",
            " 48  | https://www.cpp.edu/~agri/about                                                 | 0.00163290246774064687\n",
            " 49  | https://www.cpp.edu/~agri/degrees                                               | 0.00163290246774064687\n",
            " 50  | https://www.cpp.edu/~agri/contact-us                                            | 0.00163290246774064687\n",
            " 51  | https://www.cpp.edu/~agri/alumni                                                | 0.00163290246774064687\n",
            " 52  | https://www.cpp.edu/~agri/faculty-staff                                         | 0.00163290246774064687\n",
            " 53  | https://www.cpp.edu/~agri/departments                                           | 0.00163290246774064687\n",
            " 54  | https://www.cpp.edu/~officeofequity/titleIX                                     | 0.00161765111346531538\n",
            " 55  | https://www.cpp.edu/~aboutcpp/visitor-information/dining.shtml                  | 0.00152961545132126119\n",
            " 56  | https://www.cpp.edu/~aboutcpp/visitor-information/parking.shtml                 | 0.00150509600981396912\n",
            " 57  | https://www.cpp.edu/~aboutcpp/visitor-information/attractions.shtml             | 0.00149706247936096234\n",
            " 58  | https://www.cpp.edu/~aboutcpp/news.shtml                                        | 0.00148530596610023206\n",
            " 59  | https://www.cpp.edu/~aboutcpp/visitor-information/shopping.shtml                | 0.00148530596610023206\n",
            " 60  | https://www.cpp.edu/~aboutcpp/visitor-information/lodging.shtml                 | 0.00148530596610023206\n",
            " 61  | https://www.cpp.edu/~aboutcpp/visitor-information/directions.shtml              | 0.00148530596610023206\n",
            " 62  | https://www.cpp.edu/~aboutcpp/why-cpp/diverse.shtml                             | 0.00148530596610023206\n",
            " 63  | https://www.cpp.edu/~aboutcpp/visitor-information/getting-around.shtml          | 0.00148530596610023206\n",
            " 64  | https://www.cpp.edu/~cba/student-success-center                                 | 0.00146489223613554729\n",
            " 65  | https://www.cpp.edu/~cba/academics                                              | 0.00145488777720749799\n",
            " 66  | https://www.cpp.edu/~cba/college-giving                                         | 0.00145488777720749799\n",
            " 67  | https://www.cpp.edu/~cba/alumni-friends                                         | 0.00145488777720749799\n",
            " 68  | https://www.cpp.edu/~cba/about                                                  | 0.00145488777720749799\n",
            " 69  | https://www.cpp.edu/~cba/our-faculty                                            | 0.00145488777720749799\n",
            " 70  | https://www.cpp.edu/~ceis/about                                                 | 0.00138116806810778124\n",
            " 71  | https://www.cpp.edu/~safety                                                     | 0.00137333260761528524\n",
            " 72  | https://www.cpp.edu/alpha-index                                                 | 0.00135193078362459999\n",
            " 73  | https://www.cpp.edu/campus-safety-plan.shtml                                    | 0.00135193078362459999\n",
            " 74  | https://www.cpp.edu/annual-security-report.shtml                                | 0.00135193078362459999\n",
            " 75  | https://www.cpp.edu/~jobs                                                       | 0.00133655625459262045\n",
            " 76  | https://www.cpp.edu/contact.shtml                                               | 0.00130271035419350927\n",
            " 77  | https://www.cpp.edu/~ceis/news-events                                           | 0.00129682993312513510\n",
            " 78  | https://www.cpp.edu/~ceis/alumni-and-friends                                    | 0.00129682993312513510\n",
            " 79  | https://www.cpp.edu/~ceis/contact-us                                            | 0.00129682993312513510\n",
            " 80  | https://www.cpp.edu/~ceis/giving                                                | 0.00129682993312513510\n",
            " 81  | https://www.cpp.edu/~ceis/departments.shtml                                     | 0.00129682993312513510\n",
            " 82  | https://www.cpp.edu/~alumni/outstanding-alumni/spotlight/andrew-kopp.shtml      | 0.00129571614489005062\n",
            " 83  | https://www.cpp.edu/events/index.php?cat=Cultural+and+Performing+Arts           | 0.00128579891403741184\n",
            " 84  | https://www.cpp.edu/student-gateway                                             | 0.00128483358806129452\n",
            " 85  | https://www.cpp.edu/~compass                                                    | 0.00128306481886802026\n",
            " 86  | https://www.cpp.edu/~alumni/about                                               | 0.00128290936058151933\n",
            " 87  | https://www.cpp.edu/~alumni/contact                                             | 0.00128290936058151933\n",
            " 88  | https://www.cpp.edu/~alumni/programs                                            | 0.00128290936058151933\n",
            " 89  | https://www.cpp.edu/~alumni/student-outreach                                    | 0.00128290936058151933\n",
            " 90  | https://www.cpp.edu/~alumni/chapters                                            | 0.00128290936058151933\n",
            " 91  | https://www.cpp.edu/~aboutcpp/visitor-information?C=D;O=A                       | 0.00125042494102697464\n",
            " 92  | https://www.cpp.edu/~aboutcpp/visitor-information?C=M;O=A                       | 0.00125042494102697464\n",
            " 93  | https://www.cpp.edu/~aboutcpp/visitor-information?C=S;O=A                       | 0.00125042494102697464\n",
            " 94  | https://www.cpp.edu/~engineering                                                | 0.00123921686645503144\n",
            " 95  | https://www.cpp.edu/~financial-aid                                              | 0.00121732662330244538\n",
            " 96  | https://www.cpp.edu/~admissions/international?C=D;O=A                           | 0.00119772809755955322\n",
            " 97  | https://www.cpp.edu/~admissions/international?C=S;O=A                           | 0.00119772809755955322\n",
            " 98  | https://www.cpp.edu/~admissions/international?C=M;O=A                           | 0.00119772809755955322\n",
            " 99  | https://www.cpp.edu/~env                                                        | 0.00119742440835321701\n",
            " 100 | https://www.cpp.edu/faculty-staff-gateway                                       | 0.00119742440835321701\n",
            "\n",
            "Sum All Page Ranks:  0.8718877734012266\n"
          ],
          "name": "stdout"
        }
      ]
    },
    {
      "metadata": {
        "id": "aKHQN-E5EJxY",
        "colab_type": "code",
        "colab": {}
      },
      "cell_type": "code",
      "source": [
        "link_df=pd.DataFrame(sorted_index, columns=['Link', 'Position'])\n",
        "link_df.to_csv(\"report.csv\") "
      ],
      "execution_count": 0,
      "outputs": []
    }
  ]
}